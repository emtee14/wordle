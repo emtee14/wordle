{
 "cells": [
  {
   "cell_type": "markdown",
   "id": "e79c1bba-aef9-4b05-8aba-2555e2c55620",
   "metadata": {},
   "source": [
    "# Wordle Solver\n",
    "\n",
    "This algorithm is designed to solve the game known as [Wordle](https://www.powerlanguage.co.uk/wordle/). It works by going through all the possible words and getting the frequency of each letter and the frequency of their positon in the word. This means that each word can be assigned a score based on the amount of common letters it has and where those letter are positioned allowing it to eliminate the most words possible with the least amount of tries.\n",
    "\n",
    "## Frequency and Position Analysis"
   ]
  },
  {
   "cell_type": "code",
   "execution_count": 8,
   "id": "5ae461c6-1c0f-436f-b513-ea517866ec9c",
   "metadata": {},
   "outputs": [],
   "source": [
    "with open(\"words.txt\", \"r\") as f:\n",
    "    words = []\n",
    "    for i in f:\n",
    "        words.append(i.rstrip())\n",
    "\n",
    "letter_info = {}\n",
    "for word in words:\n",
    "    for idx, letter in enumerate(word):\n",
    "        try:\n",
    "            letter_info[letter][\"freq\"] += 1\n",
    "        except:\n",
    "            letter_info[letter] = {\n",
    "                \"freq\": 1,\n",
    "                \"pos\":{0:0,1:0,2:0,3:0,4:0}\n",
    "            }\n",
    "        letter_info[letter][\"pos\"][idx] += 1\n",
    "\n",
    "word_scores = {}\n",
    "for word in words:\n",
    "    word_scores[word] = {\n",
    "        \"word\": word,\n",
    "        \"freq_score\": sum(set([letter_info[letter][\"freq\"] for letter in word])),\n",
    "        \"pos_score\": sum([letter_info[letter][\"pos\"][idx] for idx, letter in enumerate(word)])\n",
    "    }\n",
    "    word_scores[word][\"overall_score\"] = word_scores[word][\"freq_score\"] + word_scores[word][\"pos_score\"]"
   ]
  },
  {
   "cell_type": "markdown",
   "id": "5e56af13-ac2a-497e-9d6e-ef432bdb54d1",
   "metadata": {},
   "source": [
    "# Storing Words in DB"
   ]
  },
  {
   "cell_type": "code",
   "execution_count": 13,
   "id": "09259033-c33f-4c76-9397-ce07d3c7b4c7",
   "metadata": {},
   "outputs": [],
   "source": [
    "import sqlite3\n",
    "\n",
    "conn = sqlite3.connect(\"words.db\")\n",
    "cur = conn.cursor()\n",
    "\n",
    "cur.execute(\"\"\"\n",
    "CREATE TABLE IF NOT EXISTS words (\n",
    "    word text PRIMARY KEY,\n",
    "    let0 text NOT NULL,\n",
    "    let1 text NOT NULL,\n",
    "    let2 text NOT NULL,\n",
    "    let3 text NOT NULL,\n",
    "    let4 text NOT NULL,\n",
    "    freq_score integer NOT NULL,\n",
    "    pos_score integer NOT NULL,\n",
    "    overall_score integer NOT NULL\n",
    ");\n",
    "\"\"\")\n",
    "\n",
    "for word_data in word_scores:\n",
    "    insert_tuple = (word_scores[word_data][\"word\"],) + tuple(word_scores[word_data][\"word\"]) + tuple(word_scores[word_data].values())[1:]\n",
    "    cur.execute(\"\"\"\n",
    "    INSERT INTO words \n",
    "    (word, let0, let1, let2, let3, let4, freq_score, pos_score, overall_score) \n",
    "    VALUES (?,?,?,?,?,?,?,?,?)\n",
    "    \"\"\",\n",
    "    insert_tuple\n",
    "    )\n",
    "conn.commit()"
   ]
  },
  {
   "cell_type": "markdown",
   "id": "37ceac6f-4d82-4f38-adfa-4301520fb0eb",
   "metadata": {},
   "source": [
    "# Actual Solving Part"
   ]
  },
  {
   "cell_type": "code",
   "execution_count": 11,
   "id": "c229d3e3-5d30-4aa4-a606-d5dbd20d5282",
   "metadata": {},
   "outputs": [],
   "source": [
    "def suggestion(incorrect, correct, almost):\n",
    "    incorrect = list(set(incorrect))\n",
    "    correct = list(set(correct))\n",
    "    almost = list(set(almost))\n",
    "    \n",
    "    query = \"SELECT word, MAX(overall_score) FROM words WHERE \"\n",
    "    for let in incorrect:\n",
    "        query += f\"NOT word LIKE '%{let}%' AND \"\n",
    "    for let in almost:\n",
    "        query += f\"let{let[0]} <> '{let[1]}' AND word LIKE '%{let[1]}%' AND \"\n",
    "    for let in correct:\n",
    "        query += f\"let{let[0]} = '{let[1]}' AND \"\n",
    "    if query[-4:] == \"AND \":\n",
    "        query = query[:-4]\n",
    "    else:\n",
    "        query = query[:-6]\n",
    "    cur.execute(query)\n",
    "\n",
    "    optimal_word = cur.fetchone()\n",
    "    return optimal_word\n"
   ]
  },
  {
   "cell_type": "markdown",
   "id": "c6834353",
   "metadata": {},
   "source": [
    "# Test it Yourself"
   ]
  },
  {
   "cell_type": "code",
   "execution_count": null,
   "id": "027fb67f",
   "metadata": {},
   "outputs": [],
   "source": [
    "best_word = suggestion([],[],[])\n",
    "print(f\"Input '{best_word[0]}' as first word\")\n",
    "guesses = {\n",
    "    \"incorrect\": [],\n",
    "    \"almost\": [],\n",
    "    \"correct\": []\n",
    "}\n",
    "\n",
    "for i in range(6):\n",
    "    print(\"Input all the incorrect letters (e.g. rgb) - \")\n",
    "    incorrect_letters = list(input(\"\"))\n",
    "    print(\"Input correct letter with wrong position (e.g. 4d 0e)- \")\n",
    "    almost_letters = input().rsplit(\" \")\n",
    "    print(\"Input all correct letters (e.g. 2d 3c)\")\n",
    "    correct_letters = input().rsplit(\" \")\n",
    "\n",
    "    if correct_letters != ['']:\n",
    "        correct_letters = [(int(x[0]), x[1]) for x in correct_letters]\n",
    "    else: correct_letters = []\n",
    "    if almost_letters != ['']:\n",
    "        almost_letters = [(int(x[0]), x[1]) for x in almost_letters]\n",
    "    else: almost_letters = []\n",
    "    guesses[\"incorrect\"] += incorrect_letters\n",
    "    guesses[\"almost\"] += almost_letters\n",
    "    guesses[\"correct\"] += correct_letters\n",
    "    \n",
    "    optimal_word = suggestion(guesses[\"incorrect\"], guesses[\"correct\"], guesses[\"almost\"])\n",
    "    print(f\"\\nMost optimal word is '{optimal_word[0]}'\")\n",
    "    \n",
    "    print(\"Is {optimal_word[0]} correct y/N\")\n",
    "    finished = input().upper()\n",
    "    if finished == \"Y\":\n",
    "        print(f\"Took {str(i+2)} attempts\")\n",
    "        break"
   ]
  },
  {
   "cell_type": "markdown",
   "id": "9bf006c7",
   "metadata": {},
   "source": [
    "# Performance Testing\n",
    "\n",
    "- Average amount of guesses 4.502282641777417\n",
    "- Max amount of guesses 7. \n",
    "- Min amount of guesses 1\n",
    "- Guessed 9857 out of 10657 correctly with a success rate if 92.49%\n",
    "- The standard deviation is 1.20"
   ]
  },
  {
   "cell_type": "code",
   "execution_count": 14,
   "id": "517d5b3e",
   "metadata": {},
   "outputs": [
    {
     "name": "stdout",
     "output_type": "stream",
     "text": [
      "Average amount of guesses 4.502282641777417\n",
      "Max amount of guesses 7. \n",
      "Min amount of guesses 1\n",
      "Guessed 9857 out of 10657 correctly with a success rate if 92.49%\n",
      "The standard deviation is 1.20\n"
     ]
    }
   ],
   "source": [
    "import numpy as np\n",
    "\n",
    "words = []\n",
    "with open(\"words.txt\", \"r\") as f:\n",
    "    for i in f:\n",
    "        words.append(i.rstrip())\n",
    "\n",
    "correct_guesses = []\n",
    "for answer in words:\n",
    "    guesses = {\n",
    "        \"incorrect\": [],\n",
    "        \"almost\": [],\n",
    "        \"correct\": []\n",
    "    }\n",
    "    for turn in range(7):\n",
    "        optimal_word = suggestion(guesses[\"incorrect\"], guesses[\"correct\"], guesses[\"almost\"])\n",
    "        optimal_word = optimal_word[0]\n",
    "        if optimal_word == answer:\n",
    "            correct_guesses.append(turn+1)\n",
    "            break\n",
    "        for idx, let in enumerate(optimal_word):\n",
    "            if let == answer[idx]:\n",
    "                guesses[\"correct\"].append((idx, let))\n",
    "            elif let in list(answer):\n",
    "                guesses[\"almost\"].append((idx, optimal_word[idx]))\n",
    "            else:\n",
    "                guesses[\"incorrect\"].append(let)\n",
    "\n",
    "print(f\"Average amount of guesses {sum(correct_guesses)/len(correct_guesses)}\")\n",
    "print(f\"Max amount of guesses {max(correct_guesses)}. \\nMin amount of guesses {min(correct_guesses)}\")\n",
    "print(f\"Guessed {len(correct_guesses)} out of {len(words)} correctly with a success rate if {(len(correct_guesses)/len(words))*100:.2f}%\")\n",
    "print(f\"The standard deviation is {np.std(correct_guesses):.2f}\")"
   ]
  },
  {
   "cell_type": "markdown",
   "id": "04570fe2",
   "metadata": {},
   "source": []
  }
 ],
 "metadata": {
  "kernelspec": {
   "display_name": "Python 3 (ipykernel)",
   "language": "python",
   "name": "python3"
  },
  "language_info": {
   "codemirror_mode": {
    "name": "ipython",
    "version": 3
   },
   "file_extension": ".py",
   "mimetype": "text/x-python",
   "name": "python",
   "nbconvert_exporter": "python",
   "pygments_lexer": "ipython3",
   "version": "3.8.9"
  }
 },
 "nbformat": 4,
 "nbformat_minor": 5
}
